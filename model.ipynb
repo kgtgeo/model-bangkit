{
  "nbformat": 4,
  "nbformat_minor": 0,
  "metadata": {
    "colab": {
      "name": "bangkit.ipynb",
      "provenance": []
    },
    "kernelspec": {
      "name": "python3",
      "display_name": "Python 3"
    },
    "language_info": {
      "name": "python"
    }
  },
  "cells": [
    {
      "cell_type": "code",
      "execution_count": null,
      "metadata": {
        "colab": {
          "base_uri": "https://localhost:8080/"
        },
        "id": "TH8QVNuUSV-G",
        "outputId": "b5de73da-6786-42c1-a405-a4828fff533a"
      },
      "outputs": [
        {
          "output_type": "stream",
          "name": "stdout",
          "text": [
            "Mounted at /drive\n"
          ]
        }
      ],
      "source": [
        "from google.colab import drive, auth\n",
        "drive.mount('/drive')\n",
        "auth.authenticate_user()\n",
        "import pandas as pd\n",
        "import tensorflow as tf\n",
        "from tensorflow import keras\n",
        "from sklearn.preprocessing import OrdinalEncoder"
      ]
    },
    {
      "cell_type": "code",
      "source": [
        "HOME = '/drive/MyDrive/Colab Notebooks/bangkit/'"
      ],
      "metadata": {
        "id": "9NmHr4oyz7G3"
      },
      "execution_count": null,
      "outputs": []
    },
    {
      "cell_type": "code",
      "source": [
        "!python --version"
      ],
      "metadata": {
        "colab": {
          "base_uri": "https://localhost:8080/"
        },
        "id": "KXUr3I_1CR43",
        "outputId": "b3350b35-ace4-4a8c-e5e4-d3b3c1b6eed7"
      },
      "execution_count": null,
      "outputs": [
        {
          "output_type": "stream",
          "name": "stdout",
          "text": [
            "Python 3.7.13\n"
          ]
        }
      ]
    },
    {
      "cell_type": "code",
      "source": [
        "print(tf.__version__)"
      ],
      "metadata": {
        "colab": {
          "base_uri": "https://localhost:8080/"
        },
        "id": "vwAD6t_8Dzpm",
        "outputId": "ac057644-04ef-415d-b2f9-decc456b56a1"
      },
      "execution_count": null,
      "outputs": [
        {
          "output_type": "stream",
          "name": "stdout",
          "text": [
            "2.8.2\n"
          ]
        }
      ]
    },
    {
      "cell_type": "markdown",
      "source": [
        "## Training"
      ],
      "metadata": {
        "id": "Xi9hGfmx5puc"
      }
    },
    {
      "cell_type": "code",
      "source": [
        "df = pd.read_csv(HOME+'exercise-train.csv')\n",
        "df.dtypes"
      ],
      "metadata": {
        "id": "BOwvi7Cjd89Y",
        "colab": {
          "base_uri": "https://localhost:8080/"
        },
        "outputId": "1eb1cd97-9b99-4d05-e84b-ae5e3c26189a"
      },
      "execution_count": null,
      "outputs": [
        {
          "output_type": "execute_result",
          "data": {
            "text/plain": [
              "id              int64\n",
              "Gender         object\n",
              "Age             int64\n",
              "Height          int64\n",
              "Weight          int64\n",
              "Duration        int64\n",
              "Heart_Rate      int64\n",
              "Body_Temp     float64\n",
              "Calories        int64\n",
              "dtype: object"
            ]
          },
          "metadata": {},
          "execution_count": 14
        }
      ]
    },
    {
      "cell_type": "code",
      "source": [
        "df.head(1)"
      ],
      "metadata": {
        "colab": {
          "base_uri": "https://localhost:8080/",
          "height": 81
        },
        "id": "J8bbnTSV1FM3",
        "outputId": "203dfa09-2a62-44b1-d7ae-e5fe49627112"
      },
      "execution_count": null,
      "outputs": [
        {
          "output_type": "execute_result",
          "data": {
            "text/plain": [
              "   id Gender  Age  Height  Weight  Duration  Heart_Rate  Body_Temp  Calories\n",
              "0   1   male   58     187      87        23         111       40.8       190"
            ],
            "text/html": [
              "\n",
              "  <div id=\"df-b51d057d-0aef-49cf-b908-b47170b342d3\">\n",
              "    <div class=\"colab-df-container\">\n",
              "      <div>\n",
              "<style scoped>\n",
              "    .dataframe tbody tr th:only-of-type {\n",
              "        vertical-align: middle;\n",
              "    }\n",
              "\n",
              "    .dataframe tbody tr th {\n",
              "        vertical-align: top;\n",
              "    }\n",
              "\n",
              "    .dataframe thead th {\n",
              "        text-align: right;\n",
              "    }\n",
              "</style>\n",
              "<table border=\"1\" class=\"dataframe\">\n",
              "  <thead>\n",
              "    <tr style=\"text-align: right;\">\n",
              "      <th></th>\n",
              "      <th>id</th>\n",
              "      <th>Gender</th>\n",
              "      <th>Age</th>\n",
              "      <th>Height</th>\n",
              "      <th>Weight</th>\n",
              "      <th>Duration</th>\n",
              "      <th>Heart_Rate</th>\n",
              "      <th>Body_Temp</th>\n",
              "      <th>Calories</th>\n",
              "    </tr>\n",
              "  </thead>\n",
              "  <tbody>\n",
              "    <tr>\n",
              "      <th>0</th>\n",
              "      <td>1</td>\n",
              "      <td>male</td>\n",
              "      <td>58</td>\n",
              "      <td>187</td>\n",
              "      <td>87</td>\n",
              "      <td>23</td>\n",
              "      <td>111</td>\n",
              "      <td>40.8</td>\n",
              "      <td>190</td>\n",
              "    </tr>\n",
              "  </tbody>\n",
              "</table>\n",
              "</div>\n",
              "      <button class=\"colab-df-convert\" onclick=\"convertToInteractive('df-b51d057d-0aef-49cf-b908-b47170b342d3')\"\n",
              "              title=\"Convert this dataframe to an interactive table.\"\n",
              "              style=\"display:none;\">\n",
              "        \n",
              "  <svg xmlns=\"http://www.w3.org/2000/svg\" height=\"24px\"viewBox=\"0 0 24 24\"\n",
              "       width=\"24px\">\n",
              "    <path d=\"M0 0h24v24H0V0z\" fill=\"none\"/>\n",
              "    <path d=\"M18.56 5.44l.94 2.06.94-2.06 2.06-.94-2.06-.94-.94-2.06-.94 2.06-2.06.94zm-11 1L8.5 8.5l.94-2.06 2.06-.94-2.06-.94L8.5 2.5l-.94 2.06-2.06.94zm10 10l.94 2.06.94-2.06 2.06-.94-2.06-.94-.94-2.06-.94 2.06-2.06.94z\"/><path d=\"M17.41 7.96l-1.37-1.37c-.4-.4-.92-.59-1.43-.59-.52 0-1.04.2-1.43.59L10.3 9.45l-7.72 7.72c-.78.78-.78 2.05 0 2.83L4 21.41c.39.39.9.59 1.41.59.51 0 1.02-.2 1.41-.59l7.78-7.78 2.81-2.81c.8-.78.8-2.07 0-2.86zM5.41 20L4 18.59l7.72-7.72 1.47 1.35L5.41 20z\"/>\n",
              "  </svg>\n",
              "      </button>\n",
              "      \n",
              "  <style>\n",
              "    .colab-df-container {\n",
              "      display:flex;\n",
              "      flex-wrap:wrap;\n",
              "      gap: 12px;\n",
              "    }\n",
              "\n",
              "    .colab-df-convert {\n",
              "      background-color: #E8F0FE;\n",
              "      border: none;\n",
              "      border-radius: 50%;\n",
              "      cursor: pointer;\n",
              "      display: none;\n",
              "      fill: #1967D2;\n",
              "      height: 32px;\n",
              "      padding: 0 0 0 0;\n",
              "      width: 32px;\n",
              "    }\n",
              "\n",
              "    .colab-df-convert:hover {\n",
              "      background-color: #E2EBFA;\n",
              "      box-shadow: 0px 1px 2px rgba(60, 64, 67, 0.3), 0px 1px 3px 1px rgba(60, 64, 67, 0.15);\n",
              "      fill: #174EA6;\n",
              "    }\n",
              "\n",
              "    [theme=dark] .colab-df-convert {\n",
              "      background-color: #3B4455;\n",
              "      fill: #D2E3FC;\n",
              "    }\n",
              "\n",
              "    [theme=dark] .colab-df-convert:hover {\n",
              "      background-color: #434B5C;\n",
              "      box-shadow: 0px 1px 3px 1px rgba(0, 0, 0, 0.15);\n",
              "      filter: drop-shadow(0px 1px 2px rgba(0, 0, 0, 0.3));\n",
              "      fill: #FFFFFF;\n",
              "    }\n",
              "  </style>\n",
              "\n",
              "      <script>\n",
              "        const buttonEl =\n",
              "          document.querySelector('#df-b51d057d-0aef-49cf-b908-b47170b342d3 button.colab-df-convert');\n",
              "        buttonEl.style.display =\n",
              "          google.colab.kernel.accessAllowed ? 'block' : 'none';\n",
              "\n",
              "        async function convertToInteractive(key) {\n",
              "          const element = document.querySelector('#df-b51d057d-0aef-49cf-b908-b47170b342d3');\n",
              "          const dataTable =\n",
              "            await google.colab.kernel.invokeFunction('convertToInteractive',\n",
              "                                                     [key], {});\n",
              "          if (!dataTable) return;\n",
              "\n",
              "          const docLinkHtml = 'Like what you see? Visit the ' +\n",
              "            '<a target=\"_blank\" href=https://colab.research.google.com/notebooks/data_table.ipynb>data table notebook</a>'\n",
              "            + ' to learn more about interactive tables.';\n",
              "          element.innerHTML = '';\n",
              "          dataTable['output_type'] = 'display_data';\n",
              "          await google.colab.output.renderOutput(dataTable, element);\n",
              "          const docLink = document.createElement('div');\n",
              "          docLink.innerHTML = docLinkHtml;\n",
              "          element.appendChild(docLink);\n",
              "        }\n",
              "      </script>\n",
              "    </div>\n",
              "  </div>\n",
              "  "
            ]
          },
          "metadata": {},
          "execution_count": 15
        }
      ]
    },
    {
      "cell_type": "code",
      "source": [
        "target = df.pop('Calories')"
      ],
      "metadata": {
        "id": "NerQppDK1gRz"
      },
      "execution_count": null,
      "outputs": []
    },
    {
      "cell_type": "code",
      "source": [
        "features = list(set(df.columns) - {'id', 'Gender'})\n",
        "features"
      ],
      "metadata": {
        "colab": {
          "base_uri": "https://localhost:8080/"
        },
        "id": "dIHjiHLD0hEZ",
        "outputId": "791ee456-893b-4b56-e6dd-8cad924dc273"
      },
      "execution_count": null,
      "outputs": [
        {
          "output_type": "execute_result",
          "data": {
            "text/plain": [
              "['Height', 'Age', 'Body_Temp', 'Weight', 'Duration', 'Heart_Rate']"
            ]
          },
          "metadata": {},
          "execution_count": 17
        }
      ]
    },
    {
      "cell_type": "code",
      "source": [
        "df = df[features]\n",
        "df.head(1)"
      ],
      "metadata": {
        "colab": {
          "base_uri": "https://localhost:8080/",
          "height": 81
        },
        "id": "YR_68wGf0n1n",
        "outputId": "0de4bd2e-0c81-4a60-a685-3b2366366b01"
      },
      "execution_count": null,
      "outputs": [
        {
          "output_type": "execute_result",
          "data": {
            "text/plain": [
              "   Height  Age  Body_Temp  Weight  Duration  Heart_Rate\n",
              "0     187   58       40.8      87        23         111"
            ],
            "text/html": [
              "\n",
              "  <div id=\"df-b8ce9690-4a37-40e7-b10d-065a483a5832\">\n",
              "    <div class=\"colab-df-container\">\n",
              "      <div>\n",
              "<style scoped>\n",
              "    .dataframe tbody tr th:only-of-type {\n",
              "        vertical-align: middle;\n",
              "    }\n",
              "\n",
              "    .dataframe tbody tr th {\n",
              "        vertical-align: top;\n",
              "    }\n",
              "\n",
              "    .dataframe thead th {\n",
              "        text-align: right;\n",
              "    }\n",
              "</style>\n",
              "<table border=\"1\" class=\"dataframe\">\n",
              "  <thead>\n",
              "    <tr style=\"text-align: right;\">\n",
              "      <th></th>\n",
              "      <th>Height</th>\n",
              "      <th>Age</th>\n",
              "      <th>Body_Temp</th>\n",
              "      <th>Weight</th>\n",
              "      <th>Duration</th>\n",
              "      <th>Heart_Rate</th>\n",
              "    </tr>\n",
              "  </thead>\n",
              "  <tbody>\n",
              "    <tr>\n",
              "      <th>0</th>\n",
              "      <td>187</td>\n",
              "      <td>58</td>\n",
              "      <td>40.8</td>\n",
              "      <td>87</td>\n",
              "      <td>23</td>\n",
              "      <td>111</td>\n",
              "    </tr>\n",
              "  </tbody>\n",
              "</table>\n",
              "</div>\n",
              "      <button class=\"colab-df-convert\" onclick=\"convertToInteractive('df-b8ce9690-4a37-40e7-b10d-065a483a5832')\"\n",
              "              title=\"Convert this dataframe to an interactive table.\"\n",
              "              style=\"display:none;\">\n",
              "        \n",
              "  <svg xmlns=\"http://www.w3.org/2000/svg\" height=\"24px\"viewBox=\"0 0 24 24\"\n",
              "       width=\"24px\">\n",
              "    <path d=\"M0 0h24v24H0V0z\" fill=\"none\"/>\n",
              "    <path d=\"M18.56 5.44l.94 2.06.94-2.06 2.06-.94-2.06-.94-.94-2.06-.94 2.06-2.06.94zm-11 1L8.5 8.5l.94-2.06 2.06-.94-2.06-.94L8.5 2.5l-.94 2.06-2.06.94zm10 10l.94 2.06.94-2.06 2.06-.94-2.06-.94-.94-2.06-.94 2.06-2.06.94z\"/><path d=\"M17.41 7.96l-1.37-1.37c-.4-.4-.92-.59-1.43-.59-.52 0-1.04.2-1.43.59L10.3 9.45l-7.72 7.72c-.78.78-.78 2.05 0 2.83L4 21.41c.39.39.9.59 1.41.59.51 0 1.02-.2 1.41-.59l7.78-7.78 2.81-2.81c.8-.78.8-2.07 0-2.86zM5.41 20L4 18.59l7.72-7.72 1.47 1.35L5.41 20z\"/>\n",
              "  </svg>\n",
              "      </button>\n",
              "      \n",
              "  <style>\n",
              "    .colab-df-container {\n",
              "      display:flex;\n",
              "      flex-wrap:wrap;\n",
              "      gap: 12px;\n",
              "    }\n",
              "\n",
              "    .colab-df-convert {\n",
              "      background-color: #E8F0FE;\n",
              "      border: none;\n",
              "      border-radius: 50%;\n",
              "      cursor: pointer;\n",
              "      display: none;\n",
              "      fill: #1967D2;\n",
              "      height: 32px;\n",
              "      padding: 0 0 0 0;\n",
              "      width: 32px;\n",
              "    }\n",
              "\n",
              "    .colab-df-convert:hover {\n",
              "      background-color: #E2EBFA;\n",
              "      box-shadow: 0px 1px 2px rgba(60, 64, 67, 0.3), 0px 1px 3px 1px rgba(60, 64, 67, 0.15);\n",
              "      fill: #174EA6;\n",
              "    }\n",
              "\n",
              "    [theme=dark] .colab-df-convert {\n",
              "      background-color: #3B4455;\n",
              "      fill: #D2E3FC;\n",
              "    }\n",
              "\n",
              "    [theme=dark] .colab-df-convert:hover {\n",
              "      background-color: #434B5C;\n",
              "      box-shadow: 0px 1px 3px 1px rgba(0, 0, 0, 0.15);\n",
              "      filter: drop-shadow(0px 1px 2px rgba(0, 0, 0, 0.3));\n",
              "      fill: #FFFFFF;\n",
              "    }\n",
              "  </style>\n",
              "\n",
              "      <script>\n",
              "        const buttonEl =\n",
              "          document.querySelector('#df-b8ce9690-4a37-40e7-b10d-065a483a5832 button.colab-df-convert');\n",
              "        buttonEl.style.display =\n",
              "          google.colab.kernel.accessAllowed ? 'block' : 'none';\n",
              "\n",
              "        async function convertToInteractive(key) {\n",
              "          const element = document.querySelector('#df-b8ce9690-4a37-40e7-b10d-065a483a5832');\n",
              "          const dataTable =\n",
              "            await google.colab.kernel.invokeFunction('convertToInteractive',\n",
              "                                                     [key], {});\n",
              "          if (!dataTable) return;\n",
              "\n",
              "          const docLinkHtml = 'Like what you see? Visit the ' +\n",
              "            '<a target=\"_blank\" href=https://colab.research.google.com/notebooks/data_table.ipynb>data table notebook</a>'\n",
              "            + ' to learn more about interactive tables.';\n",
              "          element.innerHTML = '';\n",
              "          dataTable['output_type'] = 'display_data';\n",
              "          await google.colab.output.renderOutput(dataTable, element);\n",
              "          const docLink = document.createElement('div');\n",
              "          docLink.innerHTML = docLinkHtml;\n",
              "          element.appendChild(docLink);\n",
              "        }\n",
              "      </script>\n",
              "    </div>\n",
              "  </div>\n",
              "  "
            ]
          },
          "metadata": {},
          "execution_count": 18
        }
      ]
    },
    {
      "cell_type": "code",
      "source": [
        "tf.convert_to_tensor(df)"
      ],
      "metadata": {
        "colab": {
          "base_uri": "https://localhost:8080/"
        },
        "id": "jaBxBZbo1-nN",
        "outputId": "8b6d278e-25c8-4e49-af77-ccfe622520dc"
      },
      "execution_count": null,
      "outputs": [
        {
          "output_type": "execute_result",
          "data": {
            "text/plain": [
              "<tf.Tensor: shape=(10000, 6), dtype=float64, numpy=\n",
              "array([[187. ,  58. ,  40.8,  87. ,  23. , 111. ],\n",
              "       [165. ,  39. ,  41. ,  69. ,  30. , 108. ],\n",
              "       [152. ,  60. ,  38.5,  54. ,   3. ,  86. ],\n",
              "       ...,\n",
              "       [172. ,  36. ,  39.3,  70. ,   7. ,  87. ],\n",
              "       [165. ,  25. ,  38.4,  62. ,   3. ,  75. ],\n",
              "       [190. ,  49. ,  40.5,  96. ,  28. , 103. ]])>"
            ]
          },
          "metadata": {},
          "execution_count": 19
        }
      ]
    },
    {
      "cell_type": "code",
      "source": [
        "def get_model():\n",
        "  model = keras.Sequential([\n",
        "                            keras.layers.Normalization(axis=1),\n",
        "                            keras.layers.Dense(5, activation='relu'),\n",
        "                            keras.layers.Dense(5, activation='relu'),\n",
        "                            keras.layers.Dense(1, activation='linear')\n",
        "  ])\n",
        "  model.compile(optimizer='adam', loss='mse', metrics=['mse', 'mae'])\n",
        "  return model"
      ],
      "metadata": {
        "id": "xQrbQz7719aU"
      },
      "execution_count": null,
      "outputs": []
    },
    {
      "cell_type": "code",
      "source": [
        "BATCH_SIZE = 2\n",
        "model = get_model()\n",
        "history = model.fit(df, target, epochs=2, batch_size=BATCH_SIZE)"
      ],
      "metadata": {
        "colab": {
          "base_uri": "https://localhost:8080/"
        },
        "id": "o3uALipS2-sp",
        "outputId": "a01a85f7-f8e1-437e-ee5e-563192e2cae4"
      },
      "execution_count": null,
      "outputs": [
        {
          "output_type": "stream",
          "name": "stdout",
          "text": [
            "Epoch 1/2\n",
            "5000/5000 [==============================] - 8s 1ms/step - loss: 1496.0092 - mse: 1496.0092 - mae: 27.9242\n",
            "Epoch 2/2\n",
            "5000/5000 [==============================] - 7s 1ms/step - loss: 113.3700 - mse: 113.3700 - mae: 7.5853\n"
          ]
        }
      ]
    },
    {
      "cell_type": "code",
      "source": [
        "keras.utils.plot_model(model, rankdir='LR', show_shapes=1)"
      ],
      "metadata": {
        "colab": {
          "base_uri": "https://localhost:8080/",
          "height": 152
        },
        "id": "ZXBZmlG86N69",
        "outputId": "ccc15eea-5e2d-4f5d-bbaf-5619f70c1b32"
      },
      "execution_count": null,
      "outputs": [
        {
          "output_type": "execute_result",
          "data": {
            "text/plain": [
              "<IPython.core.display.Image object>"
            ],
            "image/png": "[encoded data removed]"
          },
          "metadata": {},
          "execution_count": 22
        }
      ]
    },
    {
      "cell_type": "markdown",
      "source": [
        "## Deployment"
      ],
      "metadata": {
        "id": "NCZr_WCa5wFG"
      }
    },
    {
      "cell_type": "code",
      "source": [
        "CLOUD_PROJECT = 'bangkit-352714'\n",
        "BUCKET = 'gs://' + CLOUD_PROJECT + '-tf2-models'"
      ],
      "metadata": {
        "id": "nETwCVdN5jPg"
      },
      "execution_count": null,
      "outputs": []
    },
    {
      "cell_type": "code",
      "source": [
        "!gcloud config set project $CLOUD_PROJECT"
      ],
      "metadata": {
        "colab": {
          "base_uri": "https://localhost:8080/"
        },
        "id": "6f54Rc5MmIrB",
        "outputId": "f766fe04-397d-43be-dae2-16df8680f4ed"
      },
      "execution_count": null,
      "outputs": [
        {
          "output_type": "stream",
          "name": "stdout",
          "text": [
            "Updated property [core/project].\n"
          ]
        }
      ]
    },
    {
      "cell_type": "code",
      "source": [
        "!gsutil mb $BUCKET\n",
        "print(BUCKET)"
      ],
      "metadata": {
        "colab": {
          "base_uri": "https://localhost:8080/"
        },
        "id": "Ov4IqQcrmXnz",
        "outputId": "2ef0eb36-b21e-4a5d-f0a9-d28bfb727a70"
      },
      "execution_count": null,
      "outputs": [
        {
          "output_type": "stream",
          "name": "stdout",
          "text": [
            "Creating gs://bangkit-352714-tf2-models/...\n",
            "ServiceException: 409 A Cloud Storage bucket named 'bangkit-352714-tf2-models' already exists. Try another name. Bucket names must be globally unique across all Google Cloud projects, including those outside of your organization.\n",
            "gs://bangkit-352714-tf2-models\n"
          ]
        }
      ]
    },
    {
      "cell_type": "code",
      "source": [
        "MODEL_DIR = BUCKET + '/model'\n",
        "model.save(MODEL_DIR, save_format='tf')"
      ],
      "metadata": {
        "colab": {
          "base_uri": "https://localhost:8080/"
        },
        "id": "w80R8VEWmmdm",
        "outputId": "14fe800e-1434-4d52-a254-711e4d7c475f"
      },
      "execution_count": null,
      "outputs": [
        {
          "output_type": "stream",
          "name": "stdout",
          "text": [
            "INFO:tensorflow:Assets written to: gs://bangkit-352714-tf2-models/model/assets\n"
          ]
        }
      ]
    },
    {
      "cell_type": "code",
      "source": [
        "MODEL = 'bangkit_0'\n",
        "!gcloud ai-platform models create $MODEL --region=us-east1"
      ],
      "metadata": {
        "colab": {
          "base_uri": "https://localhost:8080/"
        },
        "id": "S_rPzUwYmqoQ",
        "outputId": "75d57d59-8cd5-4d62-fa42-cc0735d8c9bc"
      },
      "execution_count": null,
      "outputs": [
        {
          "output_type": "stream",
          "name": "stdout",
          "text": [
            "Using endpoint [https://us-east1-ml.googleapis.com/]\n",
            "\u001b[1;31mERROR:\u001b[0m (gcloud.ai-platform.models.create) Resource in projects [bangkit-352714] is the subject of a conflict: Field: model.name Error: A model with the same name already exists.\n",
            "- '@type': type.googleapis.com/google.rpc.BadRequest\n",
            "  fieldViolations:\n",
            "  - description: A model with the same name already exists.\n",
            "    field: model.name\n"
          ]
        }
      ]
    },
    {
      "cell_type": "code",
      "source": [
        "# VERSION = 'v1'\n",
        "# !gcloud ai-platform versions create $VERSION --model $MODEL --origin $MODEL_DIR --framework='tensorflow' --runtime-version='2.8' --region='us-east1' --python-version='3.7'"
      ],
      "metadata": {
        "id": "Ml_sYcIbBzHv"
      },
      "execution_count": null,
      "outputs": []
    },
    {
      "cell_type": "markdown",
      "source": [
        "### Prediction"
      ],
      "metadata": {
        "id": "_Z14xSWcI-F9"
      }
    },
    {
      "cell_type": "code",
      "source": [
        "from googleapiclient import discovery\n",
        "from google.api_core.client_options import ClientOptions"
      ],
      "metadata": {
        "id": "KhY4v_i6I6ud"
      },
      "execution_count": null,
      "outputs": []
    },
    {
      "cell_type": "code",
      "source": [
        "def predict(project, model, instances, version='v0'):\n",
        "  service = discovery.build('ml', 'v1')\n",
        "  name = 'projects/{}/models/{}'.format(project, model)\n",
        "  name += '/versions/{}'.format(version)\n",
        "  \n",
        "  response = service.projects().predict(\n",
        "      name=name,\n",
        "      body={'instances': instances}\n",
        "  ).execute()\n",
        "\n",
        "  return response"
      ],
      "metadata": {
        "id": "z33ZiSkdJJ9J"
      },
      "execution_count": null,
      "outputs": []
    },
    {
      "cell_type": "code",
      "source": [
        "def predict_json(project, region, model, instances, version=None):\n",
        "    \"\"\"Send json data to a deployed model for prediction.\n",
        "\n",
        "    Args:\n",
        "        project (str): project where the Cloud ML Engine Model is deployed.\n",
        "        region (str): regional endpoint to use; set to None for ml.googleapis.com\n",
        "        model (str): model name.\n",
        "        instances ([Mapping[str: Any]]): Keys should be the names of Tensors\n",
        "            your deployed model expects as inputs. Values should be datatypes\n",
        "            convertible to Tensors, or (potentially nested) lists of datatypes\n",
        "            convertible to tensors.\n",
        "        version: str, version of the model to target.\n",
        "    Returns:\n",
        "        Mapping[str: any]: dictionary of prediction results defined by the\n",
        "            model.\n",
        "    \"\"\"\n",
        "    # Create the ML Engine service object.\n",
        "    # To authenticate set the environment variable\n",
        "    # GOOGLE_APPLICATION_CREDENTIALS=<path_to_service_account_file>\n",
        "    prefix = \"{}-ml\".format(region) if region else \"ml\"\n",
        "    api_endpoint = \"https://{}.googleapis.com\".format(prefix)\n",
        "    client_options = ClientOptions(api_endpoint=api_endpoint)\n",
        "    service = discovery.build(\n",
        "        'ml', 'v1', client_options=client_options)\n",
        "    name = 'projects/{}/models/{}'.format(project, model)\n",
        "\n",
        "    if version is not None:\n",
        "        name += '/versions/{}'.format(version)\n",
        "\n",
        "    print('requesting to {}/{}'.format(api_endpoint, name))\n",
        "\n",
        "    response = service.projects().predict(\n",
        "        name=name,\n",
        "        body={'instances': instances}\n",
        "    ).execute()\n",
        "\n",
        "    print('request executed')\n",
        "\n",
        "    if 'error' in response:\n",
        "        raise RuntimeError(response['error'])\n",
        "\n",
        "    return response['predictions']"
      ],
      "metadata": {
        "id": "W2cUVuHlMICe"
      },
      "execution_count": null,
      "outputs": []
    },
    {
      "cell_type": "code",
      "source": [
        "REGION = 'us-east1'\n",
        "predict_json(CLOUD_PROJECT, REGION, MODEL, [[1, 2, 3, 4, 5, 6]], 'v1')"
      ],
      "metadata": {
        "colab": {
          "base_uri": "https://localhost:8080/"
        },
        "id": "eTGflpCeJ0AN",
        "outputId": "ed6d8d59-faeb-435e-bc59-119a7e3d5fce"
      },
      "execution_count": null,
      "outputs": [
        {
          "output_type": "stream",
          "name": "stdout",
          "text": [
            "requesting to https://us-east1-ml.googleapis.com/projects/bangkit-352714/models/bangkit_0/versions/v1\n",
            "request executed\n"
          ]
        },
        {
          "output_type": "execute_result",
          "data": {
            "text/plain": [
              "[[16.8172703]]"
            ]
          },
          "metadata": {},
          "execution_count": 32
        }
      ]
    },
    {
      "cell_type": "code",
      "source": [
        "import requests\n",
        "import json\n",
        "FIELDS = ['age', 'heart', 'weight', 'temperature', 'height', 'duration']\n",
        "request_json = json.dumps({'age': 1, \n",
        "            'heart': 2, \n",
        "            'weight': 3, \n",
        "            'temperature': 4, \n",
        "            'height': 5,\n",
        "            'duration': 6,\n",
        "            })\n",
        "print(request_json)\n",
        "data = json.loads(request_json)\n",
        "features = []\n",
        "for field in FIELDS:\n",
        "  features.append(data.get(field, 1))\n",
        "[features]\n",
        "\n",
        "prediction = predict_json(CLOUD_PROJECT, REGION, MODEL, [[1, 2, 3, 4, 5, 6]], 'v1')\n",
        "print(type(prediction), type(prediction[0]), prediction)\n",
        "prediction_value = prediction[0][0]\n",
        "\n",
        "res = {}\n",
        "res['prediction'] = prediction_value\n",
        "json.dumps(res)\n"
      ],
      "metadata": {
        "colab": {
          "base_uri": "https://localhost:8080/",
          "height": 105
        },
        "id": "I8QqDluaaxqz",
        "outputId": "565900e9-95fb-4318-e82f-4e249cc0fbc7"
      },
      "execution_count": null,
      "outputs": [
        {
          "output_type": "stream",
          "name": "stdout",
          "text": [
            "{\"age\": 1, \"heart\": 2, \"weight\": 3, \"temperature\": 4, \"height\": 5, \"duration\": 6}\n",
            "requesting to https://us-east1-ml.googleapis.com/projects/bangkit-352714/models/bangkit_0/versions/v1\n",
            "request executed\n",
            "<class 'list'> <class 'list'> [[16.8172703]]\n"
          ]
        },
        {
          "output_type": "execute_result",
          "data": {
            "text/plain": [
              "'{\"prediction\": 16.8172703}'"
            ],
            "application/vnd.google.colaboratory.intrinsic+json": {
              "type": "string"
            }
          },
          "metadata": {},
          "execution_count": 42
        }
      ]
    }
  ]
}